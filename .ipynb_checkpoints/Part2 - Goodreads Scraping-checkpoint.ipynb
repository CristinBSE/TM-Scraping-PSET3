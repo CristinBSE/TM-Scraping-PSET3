{
 "cells": [
  {
   "cell_type": "code",
   "execution_count": 2,
   "id": "f070ac28",
   "metadata": {},
   "outputs": [],
   "source": [
    "import numpy as np\n",
    "import pandas as pd\n",
    "\n",
    "\n",
    "import time\n",
    "import requests\n",
    "from bs4 import BeautifulSoup"
   ]
  },
  {
   "cell_type": "code",
   "execution_count": null,
   "id": "8e971bf3",
   "metadata": {},
   "outputs": [],
   "source": [
    "#url = \"https://www.goodreads.com/genres/most_read/fiction\"\n",
    "#url = \"https://www.goodreads.com/genres/most_read/fiction\"\n",
    "url = \"https://www.goodreads.com/genres/most_read/romance\"\n",
    "page = requests.get(url)"
   ]
  },
  {
   "cell_type": "code",
   "execution_count": null,
   "id": "b28b31e1",
   "metadata": {},
   "outputs": [],
   "source": [
    "soup = BeautifulSoup(page.content, \"html.parser\")\n",
    "print(soup.prettify())"
   ]
  },
  {
   "cell_type": "code",
   "execution_count": 1,
   "id": "b381b62c",
   "metadata": {},
   "outputs": [
    {
     "ename": "NameError",
     "evalue": "name 'soup' is not defined",
     "output_type": "error",
     "traceback": [
      "\u001b[0;31m---------------------------------------------------------------------------\u001b[0m",
      "\u001b[0;31mNameError\u001b[0m                                 Traceback (most recent call last)",
      "\u001b[0;32m<ipython-input-1-17e76ae76762>\u001b[0m in \u001b[0;36m<module>\u001b[0;34m\u001b[0m\n\u001b[1;32m      1\u001b[0m \u001b[0;31m#top_class_1 = soup.find_all(\"div\", class_=\"coverWrapper\")\u001b[0m\u001b[0;34m\u001b[0m\u001b[0;34m\u001b[0m\u001b[0;34m\u001b[0m\u001b[0m\n\u001b[0;32m----> 2\u001b[0;31m \u001b[0mtop_class_1\u001b[0m \u001b[0;34m=\u001b[0m \u001b[0msoup\u001b[0m\u001b[0;34m.\u001b[0m\u001b[0mfind_all\u001b[0m\u001b[0;34m(\u001b[0m\u001b[0;34m\"div\"\u001b[0m\u001b[0;34m,\u001b[0m \u001b[0mclass_\u001b[0m\u001b[0;34m=\u001b[0m\u001b[0;34m\"leftAlignedImage bookBox\"\u001b[0m\u001b[0;34m)\u001b[0m\u001b[0;34m\u001b[0m\u001b[0;34m\u001b[0m\u001b[0m\n\u001b[0m\u001b[1;32m      3\u001b[0m \u001b[0;31m#top_class\u001b[0m\u001b[0;34m\u001b[0m\u001b[0;34m\u001b[0m\u001b[0;34m\u001b[0m\u001b[0m\n\u001b[1;32m      4\u001b[0m \u001b[0mprint\u001b[0m\u001b[0;34m(\u001b[0m\u001b[0mlen\u001b[0m\u001b[0;34m(\u001b[0m\u001b[0mtop_class_1\u001b[0m\u001b[0;34m)\u001b[0m\u001b[0;34m)\u001b[0m\u001b[0;34m\u001b[0m\u001b[0;34m\u001b[0m\u001b[0m\n\u001b[1;32m      5\u001b[0m \u001b[0;31m#print(top_class_1[0].prettify())\u001b[0m\u001b[0;34m\u001b[0m\u001b[0;34m\u001b[0m\u001b[0;34m\u001b[0m\u001b[0m\n",
      "\u001b[0;31mNameError\u001b[0m: name 'soup' is not defined"
     ]
    }
   ],
   "source": [
    "#top_class_1 = soup.find_all(\"div\", class_=\"coverWrapper\")\n",
    "top_class_1 = soup.find_all(\"div\", class_=\"leftAlignedImage bookBox\")\n",
    "#top_class\n",
    "print(len(top_class_1))\n",
    "#print(top_class_1[0].prettify())"
   ]
  },
  {
   "cell_type": "code",
   "execution_count": 151,
   "id": "d26cbcbf",
   "metadata": {},
   "outputs": [
    {
     "name": "stdout",
     "output_type": "stream",
     "text": [
      "100\n",
      "100\n",
      "100\n",
      "100\n",
      "100\n",
      "100\n",
      "100\n",
      "[['/book/show/32620332-the-seven-husbands-of-evelyn-hugo'], ['/book/show/36809135-where-the-crawdads-sing'], ['/book/show/52867387-beach-read'], ['/book/show/50093704-in-five-years'], ['/book/show/51933429-the-guest-list'], ['/book/show/57693172-a-flicker-in-the-dark'], ['/book/show/57886856-the-paid-bridesmaid'], ['/book/show/35959740-circe'], ['/book/show/56366617-not-a-happy-family'], ['/book/show/58260834-no-way-back']]\n",
      "[['The Seven Husbands of Evelyn Hugo'], ['Where the Crawdads Sing'], ['Beach Read'], ['In Five Years'], ['The Guest List'], ['A Flicker in the Dark'], ['The Paid Bridesmaid'], ['Circe'], ['Not a Happy Family'], ['No Way Back (Jack McNeal #1)']]\n",
      "[['Taylor_Jenkins_Reid'], ['Delia_Owens'], ['Emily_Henry'], ['Rebecca_Serle'], ['Lucy_Foley'], ['Stacy_Willingham'], ['Sariah_Wilson'], ['Madeline_Miller'], ['Shari_Lapena'], ['J_B_Turner']]\n",
      "[['4.47'], ['4.46'], ['4.06'], ['3.83'], ['3.86'], ['4.14'], ['3.96'], ['4.26'], ['3.85'], ['4.00']]\n",
      "[['790,135'], ['1,558,923'], ['345,870'], ['241,783'], ['502,049'], ['15,590'], ['7,979'], ['598,046'], ['64,737'], ['4,854']]\n",
      "[['2017'], ['2018'], ['2020'], ['2020'], ['2020'], ['2022'], ['2022'], ['2018'], ['2021'], ['2022']]\n",
      "[['Aging and reclusive Hollywood movie icon Evelyn Hugo is finally ready to tell the truth about her glamorous and scandalous life. But when she chooses unknown magazine reporter Monique Grant for the job, no one is more astounded than Monique herself. Why her? Why now?nnMonique is not exactly on top of the world. Her husband has left her, and her professional life is going nowhere. Regardless of why Evelyn has selected her to write her biography, Monique is determined to use this opportunity to jumpstart her career.nnSummoned to Evelyn’s luxurious apartment, Monique listens in fascination as the actress tells her story. From making her way to Los Angeles in the 1950s to her decision to leave show business in the ‘80s, and, of course, the seven husbands along the way, Evelyn unspools a tale of ruthless ambition, unexpected friendship, and a great forbidden love. Monique begins to feel a very real connection to the legendary star, but as Evelyn’s story near its conclusion, it becomes clear that her life intersects with Monique’s own in tragic and irreversible ways'], [\"For years, rumors of the “Marsh Girl” haunted Barkley Cove, a quiet fishing village. Kya Clark is barefoot and wild; unfit for polite society. So in late 1969, when the popular Chase Andrews is found dead, locals immediately suspect her.nnBut Kya is not what they say. A born naturalist with just one day of school, she takes life's lessons from the land, learning the real ways of the world from the dishonest signals of fireflies. But while she has the skills to live in solitude forever, the time comes when she yearns to be touched and loved. Drawn to two young men from town, who are each intrigued by her wild beauty, Kya opens herself to a new and startling world—until the unthinkable happens.nnIn Where the Crawdads Sing, Owens juxtaposes an exquisite ode to the natural world against a profound coming of age story and haunting mystery. Thought-provoking, wise, and deeply moving, Owens’s debut novel reminds us that we are forever shaped by the child within us, while also subject to the beautiful and violent secrets that nature keeps.nnThe story asks how isolation influences the behavior of a young woman, who like all of us, has the genetic propensity to belong to a group. The clues to the mystery are brushed into the lush habitat and natural histories of its wild creatures\"], [\"A romance writer who no longer believes in love and a literary writer stuck in a rut engage in a summer-long challenge that may just upend everything they believe about happily ever afters.nnAugustus Everett is an acclaimed author of literary fiction. January Andrews writes bestselling romance. When she pens a happily ever after, he kills off his entire cast.nnThey’re polar opposites.nnIn fact, the only thing they have in common is that for the next three months, they're living in neighboring beach houses, broke, and bogged down with writer's block.nnUntil, one hazy evening, one thing leads to another and they strike a deal designed to force them out of their creative ruts: Augustus will spend the summer writing something happy, and January will pen the next Great American Novel. She’ll take him on field trips worthy of any rom-com montage, and he’ll take her to interview surviving members of a backwoods death cult (obviously). Everyone will finish a book and no one will fall in love. Really\"], [\"Where do you see yourself in five years? When Type-A Manhattan lawyer Dannie Kohan is asked this question at the most important interview of her career, she has a meticulously crafted answer at the ready. Later, after nailing her interview and accepting her boyfriend's marriage proposal, Dannie goes to sleep knowing she is right on track to achieve her five-year plan. But when she wakes up, she’s suddenly in a different apartment, with a different ring on her finger, and beside a very different man. The television news is on in the background, and she can just make out the scrolling date. It’s the same night—December 15—but 2025, five years in the future. After a very intense, shocking hour, Dannie wakes again, at the brink of midnight, back in 2020. She can’t shake what has happened. It certainly felt much more than merely a dream, but she isn’t the kind of person who believes in visions. That nonsense is only charming coming from free-spirited types, like her lifelong best friend, Bella. Determined to ignore the odd experience, she files it away in the back of her mind. That is, until four-and-a-half years later, when by chance Dannie meets the very same man from her long-ago vision. Brimming with joy and heartbreak, In Five Years is an unforgettable love story that reminds us of the power of loyalty, friendship, and the unpredictable nature of destiny\"], [], [\"When Chloe Davis was twelve, six teenage girls went missing in her small Louisiana town. By the end of the summer, Chloe’s father had been arrested as a serial killer and promptly put in prison. Chloe and the rest of her family were left to grapple with the truth and try to move forward while dealing with the aftermath.nnNow 20 years later, Chloe is a psychologist in private practice in Baton Rouge and getting ready for her wedding. She finally has a fragile grasp on the happiness she’s worked so hard to get. Sometimes, though, she feels as out of control of her own life as the troubled teens who are her patients. And then a local teenage girl goes missing, and then another, and that terrifying summer comes crashing back. Is she paranoid, and seeing parallels that aren't really there, or for the second time in her life, is she about to unmask a killer?nnIn a debut novel that has already been optioned for a limited series by actress Emma Stone and sold to a dozen countries around the world, Stacy Willingham has created an unforgettable character in a spellbinding thriller that will appeal equally to fans of Gillian Flynn and Karin Slaughter\"], [], ['In the house of Helios, god of the sun and mightiest of the Titans, a daughter is born. But Circe is a strange child - not powerful, like her father, nor viciously alluring like her mother. Turning to the world of mortals for companionship, she discovers that she does possess power - the power of witchcraft, which can transform rivals into monsters and menace the gods themselves.nnThreatened, Zeus banishes her to a deserted island, where she hones her occult craft, tames wild beasts and crosses paths with many of the most famous figures in all of mythology, including the Minotaur, Daedalus and his doomed son Icarus, the murderous Medea, and, of course, wily Odysseus.nnBut there is danger, too, for a woman who stands alone, and Circe unwittingly draws the wrath of both men and gods, ultimately finding herself pitted against one of the most terrifying and vengeful of the Olympians. To protect what she loves most, Circe must summon all her strength and choose, once and for all, whether she belongs with the gods she is born from, or the mortals she has come to love'], [], []]\n"
     ]
    }
   ],
   "source": [
    "# Scraping the \n",
    "import re\n",
    "\n",
    "book_url = [re.findall(r'href\\=\\\"([\\/a-zA-Z0-9\\-]+)', str(i)) for i in top_class_1]    \n",
    "book_title = [re.findall(r'alt\\=\\\"(.+)\\\" class', str(i)) for i in top_class_1]\n",
    "book_author = [re.findall(r'\\/author\\/show\\/\\d+\\.([\\_\\d\\w]+)\\\"\\>', str(i).replace(\"\\\\\", \"\")) for i in top_class_1]\n",
    "book_rate = [re.findall(r'(\\d\\.\\d{2}) avg rating', str(i).replace(\"\\\\\", \"\")) for i in top_class_1]\n",
    "book_ratings = [re.findall(r'avg rating &mdash; ([\\d\\,]+) ratings', str(i).replace(\"\\\\\", \"\")) for i in top_class_1]\n",
    "book_publisyear = [re.findall(r'&mdash; published (\\d{4})n', str(i).replace(\"\\\\\", \"\")) for i in top_class_1]\n",
    "book_abstract = [re.findall(r'<span id=\"freeText\\d+\" style=\"display:none\">(.+)\\.</span>n', str(i).replace(\"\\\\\", \"\")) for i in top_class_1]\n",
    "\n",
    "print(len(book_url))\n",
    "print(len(book_title))\n",
    "print(len(book_author))\n",
    "print(len(book_rate))\n",
    "print(len(book_ratings))\n",
    "print(len(book_publisyear))\n",
    "print(len(book_abstract))\n",
    "\n",
    "print(book_url[:10])\n",
    "print(book_title[:10])\n",
    "print(book_author[:10])\n",
    "print(book_rate[:10])\n",
    "print(book_ratings[:10])\n",
    "print(book_publisyear[:10])\n",
    "print(book_abstract[:10])\n"
   ]
  },
  {
   "cell_type": "code",
   "execution_count": 152,
   "id": "b30b530d",
   "metadata": {},
   "outputs": [
    {
     "name": "stdout",
     "output_type": "stream",
     "text": [
      "Url         0\n",
      "Title       0\n",
      "Author      0\n",
      "Rate        0\n",
      "Ratings     0\n",
      "Year        0\n",
      "Abstract    0\n",
      "dtype: int64\n"
     ]
    },
    {
     "data": {
      "text/html": [
       "<div>\n",
       "<style scoped>\n",
       "    .dataframe tbody tr th:only-of-type {\n",
       "        vertical-align: middle;\n",
       "    }\n",
       "\n",
       "    .dataframe tbody tr th {\n",
       "        vertical-align: top;\n",
       "    }\n",
       "\n",
       "    .dataframe thead th {\n",
       "        text-align: right;\n",
       "    }\n",
       "</style>\n",
       "<table border=\"1\" class=\"dataframe\">\n",
       "  <thead>\n",
       "    <tr style=\"text-align: right;\">\n",
       "      <th></th>\n",
       "      <th>Url</th>\n",
       "      <th>Title</th>\n",
       "      <th>Author</th>\n",
       "      <th>Rate</th>\n",
       "      <th>Ratings</th>\n",
       "      <th>Year</th>\n",
       "      <th>Abstract</th>\n",
       "    </tr>\n",
       "  </thead>\n",
       "  <tbody>\n",
       "    <tr>\n",
       "      <th>0</th>\n",
       "      <td>[/book/show/32620332-the-seven-husbands-of-eve...</td>\n",
       "      <td>[The Seven Husbands of Evelyn Hugo]</td>\n",
       "      <td>[Taylor_Jenkins_Reid]</td>\n",
       "      <td>[4.47]</td>\n",
       "      <td>[790,135]</td>\n",
       "      <td>[2017]</td>\n",
       "      <td>[Aging and reclusive Hollywood movie icon Evel...</td>\n",
       "    </tr>\n",
       "    <tr>\n",
       "      <th>1</th>\n",
       "      <td>[/book/show/36809135-where-the-crawdads-sing]</td>\n",
       "      <td>[Where the Crawdads Sing]</td>\n",
       "      <td>[Delia_Owens]</td>\n",
       "      <td>[4.46]</td>\n",
       "      <td>[1,558,923]</td>\n",
       "      <td>[2018]</td>\n",
       "      <td>[For years, rumors of the “Marsh Girl” haunted...</td>\n",
       "    </tr>\n",
       "    <tr>\n",
       "      <th>2</th>\n",
       "      <td>[/book/show/52867387-beach-read]</td>\n",
       "      <td>[Beach Read]</td>\n",
       "      <td>[Emily_Henry]</td>\n",
       "      <td>[4.06]</td>\n",
       "      <td>[345,870]</td>\n",
       "      <td>[2020]</td>\n",
       "      <td>[A romance writer who no longer believes in lo...</td>\n",
       "    </tr>\n",
       "    <tr>\n",
       "      <th>3</th>\n",
       "      <td>[/book/show/50093704-in-five-years]</td>\n",
       "      <td>[In Five Years]</td>\n",
       "      <td>[Rebecca_Serle]</td>\n",
       "      <td>[3.83]</td>\n",
       "      <td>[241,783]</td>\n",
       "      <td>[2020]</td>\n",
       "      <td>[Where do you see yourself in five years? When...</td>\n",
       "    </tr>\n",
       "    <tr>\n",
       "      <th>4</th>\n",
       "      <td>[/book/show/51933429-the-guest-list]</td>\n",
       "      <td>[The Guest List]</td>\n",
       "      <td>[Lucy_Foley]</td>\n",
       "      <td>[3.86]</td>\n",
       "      <td>[502,049]</td>\n",
       "      <td>[2020]</td>\n",
       "      <td>[]</td>\n",
       "    </tr>\n",
       "  </tbody>\n",
       "</table>\n",
       "</div>"
      ],
      "text/plain": [
       "                                                 Url  \\\n",
       "0  [/book/show/32620332-the-seven-husbands-of-eve...   \n",
       "1      [/book/show/36809135-where-the-crawdads-sing]   \n",
       "2                   [/book/show/52867387-beach-read]   \n",
       "3                [/book/show/50093704-in-five-years]   \n",
       "4               [/book/show/51933429-the-guest-list]   \n",
       "\n",
       "                                 Title                 Author    Rate  \\\n",
       "0  [The Seven Husbands of Evelyn Hugo]  [Taylor_Jenkins_Reid]  [4.47]   \n",
       "1            [Where the Crawdads Sing]          [Delia_Owens]  [4.46]   \n",
       "2                         [Beach Read]          [Emily_Henry]  [4.06]   \n",
       "3                      [In Five Years]        [Rebecca_Serle]  [3.83]   \n",
       "4                     [The Guest List]           [Lucy_Foley]  [3.86]   \n",
       "\n",
       "       Ratings    Year                                           Abstract  \n",
       "0    [790,135]  [2017]  [Aging and reclusive Hollywood movie icon Evel...  \n",
       "1  [1,558,923]  [2018]  [For years, rumors of the “Marsh Girl” haunted...  \n",
       "2    [345,870]  [2020]  [A romance writer who no longer believes in lo...  \n",
       "3    [241,783]  [2020]  [Where do you see yourself in five years? When...  \n",
       "4    [502,049]  [2020]                                                 []  "
      ]
     },
     "execution_count": 152,
     "metadata": {},
     "output_type": "execute_result"
    }
   ],
   "source": [
    "# Pandas data frame\n",
    "\n",
    "df = pd.DataFrame(list(zip(book_url, book_title, book_author, book_rate, book_ratings, book_publisyear, book_abstract)),\n",
    "               columns =[\"Url\", \"Title\", \"Author\", \"Rate\", \"Ratings\", \"Year\", \"Abstract\"])\n",
    "\n",
    "print(df.isnull().sum())\n",
    "df.head()\n"
   ]
  },
  {
   "cell_type": "code",
   "execution_count": null,
   "id": "07ad1457",
   "metadata": {},
   "outputs": [],
   "source": []
  }
 ],
 "metadata": {
  "kernelspec": {
   "display_name": "Python 3",
   "language": "python",
   "name": "python3"
  },
  "language_info": {
   "codemirror_mode": {
    "name": "ipython",
    "version": 3
   },
   "file_extension": ".py",
   "mimetype": "text/x-python",
   "name": "python",
   "nbconvert_exporter": "python",
   "pygments_lexer": "ipython3",
   "version": "3.8.8"
  }
 },
 "nbformat": 4,
 "nbformat_minor": 5
}
